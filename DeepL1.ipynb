{
 "cells": [
  {
   "cell_type": "code",
   "execution_count": 6,
   "metadata": {
    "id": "i5m-Zl0zrTpS"
   },
   "outputs": [
    {
     "ename": "ModuleNotFoundError",
     "evalue": "No module named 'tensorflow'",
     "output_type": "error",
     "traceback": [
      "\u001b[1;31m---------------------------------------------------------------------------\u001b[0m",
      "\u001b[1;31mModuleNotFoundError\u001b[0m                       Traceback (most recent call last)",
      "\u001b[1;32m~\\AppData\\Local\\Temp\\ipykernel_17276\\835188361.py\u001b[0m in \u001b[0;36m<module>\u001b[1;34m\u001b[0m\n\u001b[1;32m----> 1\u001b[1;33m \u001b[1;32mimport\u001b[0m \u001b[0mtensorflow\u001b[0m \u001b[1;32mas\u001b[0m \u001b[0mtf\u001b[0m\u001b[1;33m\u001b[0m\u001b[1;33m\u001b[0m\u001b[0m\n\u001b[0m\u001b[0;32m      2\u001b[0m \u001b[1;32mfrom\u001b[0m \u001b[0mtensorflow\u001b[0m\u001b[1;33m.\u001b[0m\u001b[0mkeras\u001b[0m\u001b[1;33m.\u001b[0m\u001b[0mmodels\u001b[0m \u001b[1;32mimport\u001b[0m \u001b[0mSequential\u001b[0m\u001b[1;33m\u001b[0m\u001b[1;33m\u001b[0m\u001b[0m\n\u001b[0;32m      3\u001b[0m \u001b[1;32mfrom\u001b[0m \u001b[0mtensorflow\u001b[0m\u001b[1;33m.\u001b[0m\u001b[0mkeras\u001b[0m\u001b[1;33m.\u001b[0m\u001b[0mlayers\u001b[0m \u001b[1;32mimport\u001b[0m \u001b[0mDense\u001b[0m\u001b[1;33m\u001b[0m\u001b[1;33m\u001b[0m\u001b[0m\n\u001b[0;32m      4\u001b[0m \u001b[1;32mimport\u001b[0m \u001b[0mnumpy\u001b[0m \u001b[1;32mas\u001b[0m \u001b[0mnp\u001b[0m\u001b[1;33m\u001b[0m\u001b[1;33m\u001b[0m\u001b[0m\n\u001b[0;32m      5\u001b[0m \u001b[1;32mimport\u001b[0m \u001b[0mpandas\u001b[0m \u001b[1;32mas\u001b[0m \u001b[0mpd\u001b[0m\u001b[1;33m\u001b[0m\u001b[1;33m\u001b[0m\u001b[0m\n",
      "\u001b[1;31mModuleNotFoundError\u001b[0m: No module named 'tensorflow'"
     ]
    }
   ],
   "source": [
    "\n",
    "import tensorflow as tf\n",
    "from tensorflow.keras.models import Sequential\n",
    "from tensorflow.keras.layers import Dense\n",
    "import numpy as np\n",
    "import pandas as pd"
   ]
  },
  {
   "cell_type": "code",
   "execution_count": null,
   "metadata": {},
   "outputs": [],
   "source": []
  },
  {
   "cell_type": "code",
   "execution_count": null,
   "metadata": {},
   "outputs": [],
   "source": []
  },
  {
   "cell_type": "code",
   "execution_count": null,
   "metadata": {},
   "outputs": [],
   "source": []
  },
  {
   "cell_type": "code",
   "execution_count": null,
   "metadata": {},
   "outputs": [],
   "source": []
  },
  {
   "cell_type": "code",
   "execution_count": null,
   "metadata": {},
   "outputs": [],
   "source": []
  },
  {
   "cell_type": "code",
   "execution_count": null,
   "metadata": {},
   "outputs": [],
   "source": []
  },
  {
   "cell_type": "code",
   "execution_count": null,
   "metadata": {
    "colab": {
     "base_uri": "https://localhost:8080/"
    },
    "id": "1kn4p6xCryGa",
    "outputId": "08a161c7-fc3f-49e5-ca67-4c30b2702d35"
   },
   "outputs": [],
   "source": [
    "data = pd.read_csv('D:/Nihal/CI2 IAGI/S2/Deep learning/Churn_Modelling.csv')\n",
    "data_Binary = pd.get_dummies(data, columns=['Geography', 'Gender']).drop(['Surname','CustomerId'], axis=1)\n",
    "data_Binary = data_Binary.dropna()\n",
    "data_Train = data_Binary[0:9000]\n",
    "data_Train"
   ]
  },
  {
   "cell_type": "code",
   "execution_count": null,
   "metadata": {
    "colab": {
     "base_uri": "https://localhost:8080/"
    },
    "id": "1vuhZb8-C8lZ",
    "outputId": "a8a16eec-7f6b-4809-c660-6ee39c80a43c"
   },
   "outputs": [],
   "source": [
    "Y_Train = data_Train.iloc[:,9].values\n",
    "Y_Train"
   ]
  },
  {
   "cell_type": "code",
   "execution_count": null,
   "metadata": {
    "colab": {
     "base_uri": "https://localhost:8080/",
     "height": 488
    },
    "id": "jTC9gwvR_0Fl",
    "outputId": "ea68808a-5b0b-4f7a-a845-7cf28256f4b1"
   },
   "outputs": [],
   "source": [
    "data_Test = data_Binary[9000:]\n",
    "data_Test"
   ]
  },
  {
   "cell_type": "code",
   "execution_count": null,
   "metadata": {
    "colab": {
     "base_uri": "https://localhost:8080/"
    },
    "id": "soztbm3qB7ko",
    "outputId": "1a876460-4f3d-4a9d-9304-66db4f293e11"
   },
   "outputs": [],
   "source": [
    "Y_Test = data_Test.iloc[:,9].values\n",
    "Y_Test"
   ]
  },
  {
   "cell_type": "code",
   "execution_count": null,
   "metadata": {
    "colab": {
     "base_uri": "https://localhost:8080/"
    },
    "id": "MP2IG37SDXMc",
    "outputId": "8a7cd812-c7ad-47f3-d2a4-f95b1c357de0"
   },
   "outputs": [],
   "source": [
    "model = Sequential([\n",
    "  Dense(64, activation='relu', input_shape=(data_Train.shape[1],)), #CREER UNE COUCHE AVEC 64 NEURON LIEE A UNE COUCHE d'entré input (c mieu de choisir un nombre elevé de neuron)\n",
    "  Dense(32, activation='relu'), #AJOUT D UNE AUTRE COUCHE DE 32 NEURON\n",
    "  Dense(1, activation='sigmoid'),\n",
    "])\n",
    "model\n"
   ]
  },
  {
   "cell_type": "code",
   "execution_count": null,
   "metadata": {
    "id": "DQDUJwWVDfVI"
   },
   "outputs": [],
   "source": [
    "model.compile(optimizer='adam', loss='binary_crossentropy', metrics=['accuracy'])\n"
   ]
  },
  {
   "cell_type": "code",
   "execution_count": null,
   "metadata": {
    "colab": {
     "base_uri": "https://localhost:8080/"
    },
    "id": "ib4lbakvDiG3",
    "outputId": "796a5721-7444-461c-8d17-7a7a909fcbf4"
   },
   "outputs": [],
   "source": [
    "history = model.fit(data_Train, Y_Train, epochs=50, batch_size=40, validation_data=(data_Test, Y_Test))"
   ]
  },
  {
   "cell_type": "code",
   "execution_count": null,
   "metadata": {
    "colab": {
     "base_uri": "https://localhost:8080/"
    },
    "id": "71WKTMzTD23G",
    "outputId": "389f7dff-45cd-425c-e05f-47288f2facd2"
   },
   "outputs": [],
   "source": [
    "score = model.evaluate(data_Test, Y_Test)\n"
   ]
  },
  {
   "cell_type": "code",
   "execution_count": null,
   "metadata": {
    "colab": {
     "base_uri": "https://localhost:8080/"
    },
    "id": "6SsRawHLD7vp",
    "outputId": "6fd9fc3b-9602-4701-d7c6-63e5785c96b1"
   },
   "outputs": [],
   "source": [
    "print('Test loss:', score[0])\n",
    "print('Test accuracy:', score[1])"
   ]
  },
  {
   "cell_type": "code",
   "execution_count": null,
   "metadata": {
    "colab": {
     "base_uri": "https://localhost:8080/",
     "height": 488
    },
    "id": "RcIY1nK9HFJV",
    "outputId": "00f8bdc9-6d62-4d5a-b0d7-8d1ad7baa1f2"
   },
   "outputs": [],
   "source": [
    "New_Data = data_Binary[9700:]\n",
    "New_Data"
   ]
  },
  {
   "cell_type": "code",
   "execution_count": null,
   "metadata": {
    "colab": {
     "base_uri": "https://localhost:8080/"
    },
    "id": "qY0svbEGIIU3",
    "outputId": "935c0bcd-f16c-48e4-ab1a-6194e7ed65eb"
   },
   "outputs": [],
   "source": [
    "predictions = model.predict(New_Data)\n",
    "\n",
    "names = data['Surname'].values\n",
    "names = names[9700:]\n",
    "# Print the predictions\n",
    "names\n",
    "for i in range(0,300):\n",
    "  if (int(predictions[i]) == 0):\n",
    "    print(\"Cet Employé dont le nom est \", names[i], \" n'est pas exité malheureusement \")\n",
    "  else:\n",
    "    print(\"Cet Employé dont le nom est \", names[i], \" est exité malheureusement \")\n",
    "\n",
    "\n",
    "# print(predictions)"
   ]
  }
 ],
 "metadata": {
  "colab": {
   "provenance": []
  },
  "kernelspec": {
   "display_name": "Python 3 (ipykernel)",
   "language": "python",
   "name": "python3"
  },
  "language_info": {
   "codemirror_mode": {
    "name": "ipython",
    "version": 3
   },
   "file_extension": ".py",
   "mimetype": "text/x-python",
   "name": "python",
   "nbconvert_exporter": "python",
   "pygments_lexer": "ipython3",
   "version": "3.9.13"
  }
 },
 "nbformat": 4,
 "nbformat_minor": 1
}
